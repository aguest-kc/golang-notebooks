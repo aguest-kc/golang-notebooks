{
 "cells": [
  {
   "cell_type": "markdown",
   "metadata": {},
   "source": [
    "Import the format (fmt) package at the top of the file to be able to print to the screen."
   ]
  },
  {
   "cell_type": "code",
   "execution_count": 2,
   "metadata": {},
   "outputs": [],
   "source": [
    "import \"fmt\""
   ]
  },
  {
   "cell_type": "markdown",
   "metadata": {},
   "source": [
    "Define a function called `main`"
   ]
  },
  {
   "cell_type": "code",
   "execution_count": 2,
   "metadata": {},
   "outputs": [],
   "source": [
    "func main() {\n",
    "\tfmt.Println(\"Hello, world!\")\n",
    "}"
   ]
  },
  {
   "cell_type": "markdown",
   "metadata": {},
   "source": [
    "Call the `main` function with no parameters."
   ]
  },
  {
   "cell_type": "code",
   "execution_count": 3,
   "metadata": {},
   "outputs": [
    {
     "name": "stdout",
     "output_type": "stream",
     "text": [
      "Hello, world!\n"
     ]
    }
   ],
   "source": [
    "main()"
   ]
  },
  {
   "cell_type": "markdown",
   "metadata": {},
   "source": [
    "Define variables and then print their values"
   ]
  },
  {
   "cell_type": "code",
   "execution_count": 4,
   "metadata": {},
   "outputs": [
    {
     "name": "stdout",
     "output_type": "stream",
     "text": [
      "Andrew\n",
      "Bob\n",
      "Jason\n"
     ]
    },
    {
     "data": {
      "text/plain": [
       "6 <nil>"
      ]
     },
     "execution_count": 4,
     "metadata": {},
     "output_type": "execute_result"
    }
   ],
   "source": [
    "// Define a variable without specifying it's type\n",
    "var name_without_type = \"Andrew\"\n",
    "fmt.Println(name_without_type)\n",
    "\n",
    "// Define a variable with a specific type\n",
    "var name_with_type string = \"Bob\"\n",
    "fmt.Println(name_with_type)\n",
    "\n",
    "// Shorthand for declaring and setting a variable and it's value\n",
    "// Only available inside functions\n",
    "name := \"Jason\"\n",
    "fmt.Println(name)"
   ]
  },
  {
   "cell_type": "markdown",
   "metadata": {},
   "source": [
    "Define constants (variables with values that CANNOT be changed after being set the first time)"
   ]
  },
  {
   "cell_type": "code",
   "execution_count": null,
   "metadata": {},
   "outputs": [],
   "source": [
    "const hours_in_a_day = 24"
   ]
  },
  {
   "cell_type": "markdown",
   "metadata": {},
   "source": [
    "For loops"
   ]
  },
  {
   "cell_type": "code",
   "execution_count": 3,
   "metadata": {},
   "outputs": [
    {
     "name": "stdout",
     "output_type": "stream",
     "text": [
      "1\n",
      "2\n",
      "3\n"
     ]
    }
   ],
   "source": [
    "count := 1\n",
    "\n",
    "for count <= 3 {\n",
    "\tfmt.Println(count)\n",
    "\tcount += 1  // increment `count` by 1 (this is the same as:   count = count + 1   )\n",
    "}"
   ]
  },
  {
   "cell_type": "markdown",
   "metadata": {},
   "source": [
    "If/Else If/Else statements"
   ]
  },
  {
   "cell_type": "code",
   "execution_count": 7,
   "metadata": {},
   "outputs": [
    {
     "name": "stdout",
     "output_type": "stream",
     "text": [
      "The random number is odd!\n"
     ]
    }
   ],
   "source": [
    "random_number := 3\n",
    "\n",
    "if random_number % 2 == 0 {\n",
    "\tfmt.Println(\"The random number is even!\")\n",
    "} else if random_number % 2 != 0 {\n",
    "\tfmt.Println(\"The random number is odd!\")\n",
    "} else {\n",
    "\tfmt.Println(\"I can't figure out if the random number is even or odd.\")\n",
    "}"
   ]
  },
  {
   "cell_type": "markdown",
   "metadata": {},
   "source": [
    "Switch statement"
   ]
  },
  {
   "cell_type": "code",
   "execution_count": 8,
   "metadata": {},
   "outputs": [
    {
     "name": "stdout",
     "output_type": "stream",
     "text": [
      "You picked 'blue'\n"
     ]
    }
   ],
   "source": [
    "color := \"blue\"\n",
    "\n",
    "switch color {\n",
    "case \"red\":\n",
    "\tfmt.Println(\"You picked 'red'\")\n",
    "case \"green\":\n",
    "\tfmt.Println(\"You picked 'green'\")\n",
    "case \"blue\":\n",
    "\tfmt.Println(\"You picked 'blue'\")\n",
    "default:\n",
    "\tfmt.Println(\"You picked some other color\")\n",
    "}"
   ]
  },
  {
   "cell_type": "markdown",
   "metadata": {},
   "source": [
    "Arrays\n",
    "\n",
    "These are lists of elements that are all the SAME datatype and the array has a pre-dfeined length."
   ]
  },
  {
   "cell_type": "code",
   "execution_count": 12,
   "metadata": {},
   "outputs": [
    {
     "name": "stdout",
     "output_type": "stream",
     "text": [
      "[Bobby Suzie Annie Mark Piper]\n",
      "[Mrs. Baker Mr. Smith Mr. Johnson Ms. Flanders]\n",
      "Mr. Johnson\n"
     ]
    },
    {
     "data": {
      "text/plain": [
       "12 <nil>"
      ]
     },
     "execution_count": 12,
     "metadata": {},
     "output_type": "execute_result"
    }
   ],
   "source": [
    "/*\n",
    "Both formats below (long and short) can use either of these styles of defining an array:\n",
    "\n",
    "\t[Length]datatype{values}\n",
    "\t\tthis option sets a defined array size of `Length`\n",
    "\n",
    "\t[...]datatype{values}\n",
    "\t\tthis option leaves the array size to be inferred\n",
    "\n",
    "*/\n",
    "\n",
    "\n",
    "// \"Long hand\" way of defining an array\n",
    "var students = [5]string{\"Bobby\", \"Suzie\", \"Annie\", \"Mark\", \"Piper\"}\n",
    "fmt.Println(students)\n",
    "\n",
    "\n",
    "// \"Short hand\" way of defining an array\n",
    "teachers := [...]string{\"Mrs. Baker\", \"Mr. Smith\", \"Mr. Johnson\", \"Ms. Flanders\"}\n",
    "fmt.Println(teachers)\n",
    "\n",
    "\n",
    "// You can get values of an array by using their index. Arrays are 0-indexed.\n",
    "fmt.Println(teachers[2])"
   ]
  },
  {
   "cell_type": "markdown",
   "metadata": {},
   "source": [
    "Slices\n",
    "\n",
    "These are lists of elements that are all the SAME datatype, but does NOT have a pre-defined length."
   ]
  },
  {
   "cell_type": "code",
   "execution_count": null,
   "metadata": {},
   "outputs": [],
   "source": [
    "import (\n",
    "\t\"fmt\"\n",
    "\t\"slices\"\n",
    ")\n",
    "\n",
    "\n",
    "// Define an empty slice containing only string\n",
    "var empty_slice []string  // this creates an uninitialized slice that has a length of 0\n",
    "empty_slice = make(string, 3)  // this creates an empty slice with a length of 3\n",
    "\n",
    "// Shorthand\n",
    "myslice := []int{}  // this creates an empty slice with int datatypes"
   ]
  }
 ],
 "metadata": {
  "kernelspec": {
   "display_name": "Go",
   "language": "go",
   "name": "gophernotes"
  },
  "language_info": {
   "codemirror_mode": "",
   "file_extension": ".go",
   "mimetype": "",
   "name": "go",
   "nbconvert_exporter": "",
   "pygments_lexer": "",
   "version": "go1.11.4"
  }
 },
 "nbformat": 4,
 "nbformat_minor": 2
}
